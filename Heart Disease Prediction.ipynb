{
 "cells": [
  {
   "cell_type": "code",
   "execution_count": 43,
   "metadata": {
    "scrolled": true
   },
   "outputs": [
    {
     "name": "stderr",
     "output_type": "stream",
     "text": [
      "/home/girish/anaconda3/lib/python3.6/site-packages/ipykernel_launcher.py:4: DeprecationWarning: \n",
      ".ix is deprecated. Please use\n",
      ".loc for label based indexing or\n",
      ".iloc for positional indexing\n",
      "\n",
      "See the documentation here:\n",
      "http://pandas.pydata.org/pandas-docs/stable/indexing.html#deprecate_ix\n",
      "  after removing the cwd from sys.path.\n"
     ]
    }
   ],
   "source": [
    "import pandas as pd\n",
    "\n",
    "dataset = pd.read_csv('heart_dataset.csv', header=None)\n",
    "dataset = dataset.ix[:,[2,3,8,9,11,15,16,18,31,37,39,40,43,50,57]]\n",
    "dataset.columns = ['age','sex','cp','trestbps','chol','fbs','dm','restecg','thalach','exang','oldpeak','slope','ca','thal','num']\n",
    "dataset.loc[dataset['num'] != 0, 'num'] = 1\n",
    "dataset = dataset.replace([-9],[0])"
   ]
  },
  {
   "cell_type": "code",
   "execution_count": 44,
   "metadata": {},
   "outputs": [
    {
     "name": "stdout",
     "output_type": "stream",
     "text": [
      "0.8404255319148937\n"
     ]
    }
   ],
   "source": [
    "from sklearn.linear_model import LogisticRegression\n",
    "from sklearn import metrics, cross_validation\n",
    "predicted = cross_validation.cross_val_predict(LogisticRegression(), dataset.iloc[:,:14], dataset['num'], cv=2)\n",
    "print (metrics.accuracy_score(dataset['num'], predicted))"
   ]
  },
  {
   "cell_type": "code",
   "execution_count": 45,
   "metadata": {},
   "outputs": [
    {
     "name": "stdout",
     "output_type": "stream",
     "text": [
      "             precision    recall  f1-score   support\n",
      "\n",
      "          0       0.83      0.89      0.86       157\n",
      "          1       0.85      0.78      0.81       125\n",
      "\n",
      "avg / total       0.84      0.84      0.84       282\n",
      "\n"
     ]
    }
   ],
   "source": [
    "print (metrics.classification_report(dataset['num'], predicted) )"
   ]
  },
  {
   "cell_type": "code",
   "execution_count": 46,
   "metadata": {},
   "outputs": [
    {
     "data": {
      "text/plain": [
       "array([[-3.66364481e-02,  4.10177715e-01,  1.95983573e-01,\n",
       "         3.70550341e-03,  2.45656074e-03, -7.00541317e-02,\n",
       "         2.73810615e-01,  1.77979052e-01, -2.74633193e-02,\n",
       "         2.99817785e-01,  2.65441584e-01, -3.15679088e-02,\n",
       "         5.36736771e-01,  1.58623730e-01,  5.38043097e+00]])"
      ]
     },
     "execution_count": 46,
     "metadata": {},
     "output_type": "execute_result"
    }
   ],
   "source": [
    "clf= LogisticRegression()\n",
    "model = clf.fit(dataset, dataset['num'])\n",
    "model.coef_"
   ]
  },
  {
   "cell_type": "code",
   "execution_count": 47,
   "metadata": {
    "collapsed": true
   },
   "outputs": [],
   "source": [
    "import pickle\n",
    "filename = 'heart_failure_model.sav'\n",
    "pickle.dump(model, open(filename, 'wb'))"
   ]
  },
  {
   "cell_type": "code",
   "execution_count": null,
   "metadata": {
    "collapsed": true
   },
   "outputs": [],
   "source": []
  }
 ],
 "metadata": {
  "kernelspec": {
   "display_name": "Python 3",
   "language": "python",
   "name": "python3"
  },
  "language_info": {
   "codemirror_mode": {
    "name": "ipython",
    "version": 3
   },
   "file_extension": ".py",
   "mimetype": "text/x-python",
   "name": "python",
   "nbconvert_exporter": "python",
   "pygments_lexer": "ipython3",
   "version": "3.6.1"
  }
 },
 "nbformat": 4,
 "nbformat_minor": 2
}
